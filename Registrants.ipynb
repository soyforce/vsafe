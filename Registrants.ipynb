{
 "cells": [
  {
   "cell_type": "code",
   "execution_count": 1,
   "metadata": {},
   "outputs": [],
   "source": [
    "import pandas as pd\n",
    "import numpy as np"
   ]
  },
  {
   "cell_type": "code",
   "execution_count": 2,
   "metadata": {},
   "outputs": [
    {
     "data": {
      "text/html": [
       "<div>\n",
       "<style scoped>\n",
       "    .dataframe tbody tr th:only-of-type {\n",
       "        vertical-align: middle;\n",
       "    }\n",
       "\n",
       "    .dataframe tbody tr th {\n",
       "        vertical-align: top;\n",
       "    }\n",
       "\n",
       "    .dataframe thead th {\n",
       "        text-align: right;\n",
       "    }\n",
       "</style>\n",
       "<table border=\"1\" class=\"dataframe\">\n",
       "  <thead>\n",
       "    <tr style=\"text-align: right;\">\n",
       "      <th></th>\n",
       "      <th>REGISTRANT_CODE</th>\n",
       "      <th>ZIP_CODE</th>\n",
       "      <th>SEX</th>\n",
       "      <th>REGISTERED_DATE</th>\n",
       "      <th>TIME_ZONE</th>\n",
       "      <th>RELATIONSHIP</th>\n",
       "      <th>GUARDIAN_REGISTRANT_CODE</th>\n",
       "    </tr>\n",
       "  </thead>\n",
       "  <tbody>\n",
       "    <tr>\n",
       "      <th>0</th>\n",
       "      <td>222-10179-40558</td>\n",
       "      <td>109</td>\n",
       "      <td>Female</td>\n",
       "      <td>12/09/2021</td>\n",
       "      <td>US/Eastern</td>\n",
       "      <td>NaN</td>\n",
       "      <td>NaN</td>\n",
       "    </tr>\n",
       "    <tr>\n",
       "      <th>1</th>\n",
       "      <td>222-10271-84782</td>\n",
       "      <td>662</td>\n",
       "      <td>Male</td>\n",
       "      <td>12/31/2020</td>\n",
       "      <td>US/Central</td>\n",
       "      <td>NaN</td>\n",
       "      <td>NaN</td>\n",
       "    </tr>\n",
       "    <tr>\n",
       "      <th>2</th>\n",
       "      <td>222-10325-02776</td>\n",
       "      <td>563</td>\n",
       "      <td>Male</td>\n",
       "      <td>05/19/2021</td>\n",
       "      <td>US/Central</td>\n",
       "      <td>NaN</td>\n",
       "      <td>NaN</td>\n",
       "    </tr>\n",
       "    <tr>\n",
       "      <th>3</th>\n",
       "      <td>222-10368-05218</td>\n",
       "      <td>600</td>\n",
       "      <td>Female</td>\n",
       "      <td>04/27/2021</td>\n",
       "      <td>US/Central</td>\n",
       "      <td>NaN</td>\n",
       "      <td>NaN</td>\n",
       "    </tr>\n",
       "    <tr>\n",
       "      <th>4</th>\n",
       "      <td>222-10453-23273</td>\n",
       "      <td>554</td>\n",
       "      <td>Female</td>\n",
       "      <td>01/12/2021</td>\n",
       "      <td>US/Central</td>\n",
       "      <td>NaN</td>\n",
       "      <td>NaN</td>\n",
       "    </tr>\n",
       "  </tbody>\n",
       "</table>\n",
       "</div>"
      ],
      "text/plain": [
       "   REGISTRANT_CODE  ZIP_CODE     SEX REGISTERED_DATE   TIME_ZONE RELATIONSHIP  \\\n",
       "0  222-10179-40558       109  Female      12/09/2021  US/Eastern          NaN   \n",
       "1  222-10271-84782       662    Male      12/31/2020  US/Central          NaN   \n",
       "2  222-10325-02776       563    Male      05/19/2021  US/Central          NaN   \n",
       "3  222-10368-05218       600  Female      04/27/2021  US/Central          NaN   \n",
       "4  222-10453-23273       554  Female      01/12/2021  US/Central          NaN   \n",
       "\n",
       "  GUARDIAN_REGISTRANT_CODE  \n",
       "0                      NaN  \n",
       "1                      NaN  \n",
       "2                      NaN  \n",
       "3                      NaN  \n",
       "4                      NaN  "
      ]
     },
     "execution_count": 2,
     "metadata": {},
     "output_type": "execute_result"
    }
   ],
   "source": [
    "reg_df = pd.read_csv('consolidated_registrants[1].csv')\n",
    "reg_df.head()"
   ]
  },
  {
   "cell_type": "code",
   "execution_count": 3,
   "metadata": {},
   "outputs": [
    {
     "data": {
      "text/plain": [
       "(10.09431, 'M')"
      ]
     },
     "execution_count": 3,
     "metadata": {},
     "output_type": "execute_result"
    }
   ],
   "source": [
    "len(reg_df)/1e6, 'M'"
   ]
  },
  {
   "cell_type": "code",
   "execution_count": 4,
   "metadata": {},
   "outputs": [
    {
     "data": {
      "text/plain": [
       "(539, 'MB')"
      ]
     },
     "execution_count": 4,
     "metadata": {},
     "output_type": "execute_result"
    }
   ],
   "source": [
    "reg_df.memory_usage().sum()//2**20, 'MB'"
   ]
  },
  {
   "cell_type": "code",
   "execution_count": 5,
   "metadata": {},
   "outputs": [
    {
     "data": {
      "text/plain": [
       "REGISTRANT_CODE             object\n",
       "ZIP_CODE                     int64\n",
       "SEX                         object\n",
       "REGISTERED_DATE             object\n",
       "TIME_ZONE                   object\n",
       "RELATIONSHIP                object\n",
       "GUARDIAN_REGISTRANT_CODE    object\n",
       "dtype: object"
      ]
     },
     "execution_count": 5,
     "metadata": {},
     "output_type": "execute_result"
    }
   ],
   "source": [
    "reg_df.dtypes"
   ]
  },
  {
   "cell_type": "code",
   "execution_count": 6,
   "metadata": {},
   "outputs": [
    {
     "data": {
      "text/plain": [
       "Index                            128\n",
       "REGISTRANT_CODE             80754480\n",
       "ZIP_CODE                    80754480\n",
       "SEX                         80754480\n",
       "REGISTERED_DATE             80754480\n",
       "TIME_ZONE                   80754480\n",
       "RELATIONSHIP                80754480\n",
       "GUARDIAN_REGISTRANT_CODE    80754480\n",
       "dtype: int64"
      ]
     },
     "execution_count": 6,
     "metadata": {},
     "output_type": "execute_result"
    }
   ],
   "source": [
    "reg_df.memory_usage()"
   ]
  },
  {
   "cell_type": "code",
   "execution_count": 7,
   "metadata": {},
   "outputs": [],
   "source": [
    "reg_df['ZIP_CODE'] = reg_df['ZIP_CODE'].astype(np.uint16)\n",
    "reg_df['SEX'] = reg_df['SEX'].astype('category')\n",
    "reg_df['TIME_ZONE'] = reg_df['TIME_ZONE'].astype('category')\n",
    "reg_df['RELATIONSHIP'] = reg_df['RELATIONSHIP'].astype('category')\n",
    "reg_df['REGISTERED_DATE'] = pd.to_datetime(reg_df['REGISTERED_DATE'])"
   ]
  },
  {
   "cell_type": "code",
   "execution_count": 8,
   "metadata": {},
   "outputs": [
    {
     "data": {
      "text/plain": [
       "REGISTRANT_CODE                     object\n",
       "ZIP_CODE                            uint16\n",
       "SEX                               category\n",
       "REGISTERED_DATE             datetime64[ns]\n",
       "TIME_ZONE                         category\n",
       "RELATIONSHIP                      category\n",
       "GUARDIAN_REGISTRANT_CODE            object\n",
       "dtype: object"
      ]
     },
     "execution_count": 8,
     "metadata": {},
     "output_type": "execute_result"
    }
   ],
   "source": [
    "reg_df.dtypes"
   ]
  },
  {
   "cell_type": "code",
   "execution_count": 9,
   "metadata": {},
   "outputs": [
    {
     "data": {
      "text/plain": [
       "Index                            128\n",
       "REGISTRANT_CODE             80754480\n",
       "ZIP_CODE                    20188620\n",
       "SEX                         10094514\n",
       "REGISTERED_DATE             80754480\n",
       "TIME_ZONE                   20193868\n",
       "RELATIONSHIP                10094442\n",
       "GUARDIAN_REGISTRANT_CODE    80754480\n",
       "dtype: int64"
      ]
     },
     "execution_count": 9,
     "metadata": {},
     "output_type": "execute_result"
    }
   ],
   "source": [
    "reg_df.memory_usage()"
   ]
  },
  {
   "cell_type": "code",
   "execution_count": 10,
   "metadata": {},
   "outputs": [
    {
     "data": {
      "text/plain": [
       "(288, 'MB')"
      ]
     },
     "execution_count": 10,
     "metadata": {},
     "output_type": "execute_result"
    }
   ],
   "source": [
    "reg_df.memory_usage().sum()//2**20, 'MB'"
   ]
  },
  {
   "cell_type": "code",
   "execution_count": 11,
   "metadata": {},
   "outputs": [],
   "source": [
    "reg_df.to_feather('reg.feather')"
   ]
  }
 ],
 "metadata": {
  "kernelspec": {
   "display_name": "Python 3 (ipykernel)",
   "language": "python",
   "name": "python3"
  },
  "language_info": {
   "codemirror_mode": {
    "name": "ipython",
    "version": 3
   },
   "file_extension": ".py",
   "mimetype": "text/x-python",
   "name": "python",
   "nbconvert_exporter": "python",
   "pygments_lexer": "ipython3",
   "version": "3.10.4"
  }
 },
 "nbformat": 4,
 "nbformat_minor": 4
}
