{
 "cells": [
  {
   "cell_type": "code",
   "execution_count": 1,
   "metadata": {},
   "outputs": [],
   "source": [
    "import pandas as pd\n",
    "import numpy as np\n",
    "from utils import expand_multichoice"
   ]
  },
  {
   "cell_type": "code",
   "execution_count": 2,
   "metadata": {},
   "outputs": [
    {
     "data": {
      "text/html": [
       "<div>\n",
       "<style scoped>\n",
       "    .dataframe tbody tr th:only-of-type {\n",
       "        vertical-align: middle;\n",
       "    }\n",
       "\n",
       "    .dataframe tbody tr th {\n",
       "        vertical-align: top;\n",
       "    }\n",
       "\n",
       "    .dataframe thead th {\n",
       "        text-align: right;\n",
       "    }\n",
       "</style>\n",
       "<table border=\"1\" class=\"dataframe\">\n",
       "  <thead>\n",
       "    <tr style=\"text-align: right;\">\n",
       "      <th></th>\n",
       "      <th>REGISTRANT_CODE</th>\n",
       "      <th>MANUFACTURER</th>\n",
       "      <th>DOSE_NUMBER</th>\n",
       "      <th>VACCINATION_DATE</th>\n",
       "      <th>COADMINISTERED</th>\n",
       "      <th>COADMINISTERED_VAX</th>\n",
       "    </tr>\n",
       "  </thead>\n",
       "  <tbody>\n",
       "    <tr>\n",
       "      <th>0</th>\n",
       "      <td>222-10179-40558</td>\n",
       "      <td>Pfizer-BioNTech</td>\n",
       "      <td>3</td>\n",
       "      <td>12/02/2021</td>\n",
       "      <td>No</td>\n",
       "      <td>NaN</td>\n",
       "    </tr>\n",
       "    <tr>\n",
       "      <th>1</th>\n",
       "      <td>222-10179-40558</td>\n",
       "      <td>Pfizer-BioNTech</td>\n",
       "      <td>1</td>\n",
       "      <td>05/12/2021</td>\n",
       "      <td>No</td>\n",
       "      <td>NaN</td>\n",
       "    </tr>\n",
       "    <tr>\n",
       "      <th>2</th>\n",
       "      <td>222-10179-40558</td>\n",
       "      <td>Pfizer-BioNTech</td>\n",
       "      <td>2</td>\n",
       "      <td>06/02/2021</td>\n",
       "      <td>No</td>\n",
       "      <td>NaN</td>\n",
       "    </tr>\n",
       "    <tr>\n",
       "      <th>3</th>\n",
       "      <td>222-10271-84782</td>\n",
       "      <td>Moderna</td>\n",
       "      <td>1</td>\n",
       "      <td>12/31/2020</td>\n",
       "      <td>NaN</td>\n",
       "      <td>NaN</td>\n",
       "    </tr>\n",
       "    <tr>\n",
       "      <th>4</th>\n",
       "      <td>222-10325-02776</td>\n",
       "      <td>Janssen/Johnson &amp; Johnson</td>\n",
       "      <td>1</td>\n",
       "      <td>05/19/2021</td>\n",
       "      <td>NaN</td>\n",
       "      <td>NaN</td>\n",
       "    </tr>\n",
       "  </tbody>\n",
       "</table>\n",
       "</div>"
      ],
      "text/plain": [
       "   REGISTRANT_CODE               MANUFACTURER  DOSE_NUMBER VACCINATION_DATE  \\\n",
       "0  222-10179-40558            Pfizer-BioNTech            3       12/02/2021   \n",
       "1  222-10179-40558            Pfizer-BioNTech            1       05/12/2021   \n",
       "2  222-10179-40558            Pfizer-BioNTech            2       06/02/2021   \n",
       "3  222-10271-84782                    Moderna            1       12/31/2020   \n",
       "4  222-10325-02776  Janssen/Johnson & Johnson            1       05/19/2021   \n",
       "\n",
       "  COADMINISTERED COADMINISTERED_VAX  \n",
       "0             No                NaN  \n",
       "1             No                NaN  \n",
       "2             No                NaN  \n",
       "3            NaN                NaN  \n",
       "4            NaN                NaN  "
      ]
     },
     "execution_count": 2,
     "metadata": {},
     "output_type": "execute_result"
    }
   ],
   "source": [
    "vax_df = pd.read_csv('consolidated_vaccinations[1].csv')\n",
    "vax_df.head()"
   ]
  },
  {
   "cell_type": "code",
   "execution_count": 3,
   "metadata": {},
   "outputs": [
    {
     "data": {
      "text/plain": [
       "(20.140862, 'M')"
      ]
     },
     "execution_count": 3,
     "metadata": {},
     "output_type": "execute_result"
    }
   ],
   "source": [
    "len(vax_df)/1e6, 'M'"
   ]
  },
  {
   "cell_type": "code",
   "execution_count": 4,
   "metadata": {},
   "outputs": [
    {
     "data": {
      "text/plain": [
       "(921, 'MB')"
      ]
     },
     "execution_count": 4,
     "metadata": {},
     "output_type": "execute_result"
    }
   ],
   "source": [
    "vax_df.memory_usage().sum()//2**20, 'MB'"
   ]
  },
  {
   "cell_type": "code",
   "execution_count": 5,
   "metadata": {},
   "outputs": [
    {
     "data": {
      "text/plain": [
       "Index                       128\n",
       "REGISTRANT_CODE       161126896\n",
       "MANUFACTURER          161126896\n",
       "DOSE_NUMBER           161126896\n",
       "VACCINATION_DATE      161126896\n",
       "COADMINISTERED        161126896\n",
       "COADMINISTERED_VAX    161126896\n",
       "dtype: int64"
      ]
     },
     "execution_count": 5,
     "metadata": {},
     "output_type": "execute_result"
    }
   ],
   "source": [
    "vax_df.memory_usage()"
   ]
  },
  {
   "cell_type": "code",
   "execution_count": 6,
   "metadata": {},
   "outputs": [
    {
     "data": {
      "text/plain": [
       "REGISTRANT_CODE       object\n",
       "MANUFACTURER          object\n",
       "DOSE_NUMBER            int64\n",
       "VACCINATION_DATE      object\n",
       "COADMINISTERED        object\n",
       "COADMINISTERED_VAX    object\n",
       "dtype: object"
      ]
     },
     "execution_count": 6,
     "metadata": {},
     "output_type": "execute_result"
    }
   ],
   "source": [
    "vax_df.dtypes"
   ]
  },
  {
   "cell_type": "code",
   "execution_count": 7,
   "metadata": {},
   "outputs": [],
   "source": [
    "vax_df.MANUFACTURER = vax_df.MANUFACTURER.astype('category')\n",
    "vax_df.DOSE_NUMBER = vax_df.DOSE_NUMBER.astype(np.uint8)\n",
    "vax_df.VACCINATION_DATE = pd.to_datetime(vax_df.VACCINATION_DATE)\n",
    "vax_df.COADMINISTERED = vax_df.COADMINISTERED.astype('category')\n",
    "vax_df = expand_multichoice(vax_df, 'COADMINISTERED_VAX')"
   ]
  },
  {
   "cell_type": "code",
   "execution_count": 8,
   "metadata": {},
   "outputs": [
    {
     "data": {
      "text/plain": [
       "REGISTRANT_CODE             object\n",
       "MANUFACTURER              category\n",
       "DOSE_NUMBER                  uint8\n",
       "VACCINATION_DATE    datetime64[ns]\n",
       "COADMINISTERED            category\n",
       "Chickenpox                    bool\n",
       "Do not remember               bool\n",
       "Flu                           bool\n",
       "HPV                           bool\n",
       "Hepatitis A                   bool\n",
       "Hepatitis B                   bool\n",
       "Hib                           bool\n",
       "MMR                           bool\n",
       "Meningitis                    bool\n",
       "Other                         bool\n",
       "Pneumonia                     bool\n",
       "Polio                         bool\n",
       "Rotavirus                     bool\n",
       "Shingles                      bool\n",
       "Tetanus                       bool\n",
       "dtype: object"
      ]
     },
     "execution_count": 8,
     "metadata": {},
     "output_type": "execute_result"
    }
   ],
   "source": [
    "vax_df.dtypes"
   ]
  },
  {
   "cell_type": "code",
   "execution_count": 9,
   "metadata": {},
   "outputs": [
    {
     "data": {
      "text/plain": [
       "(653, 'MB')"
      ]
     },
     "execution_count": 9,
     "metadata": {},
     "output_type": "execute_result"
    }
   ],
   "source": [
    "vax_df.memory_usage().sum()//2**20, 'MB'"
   ]
  },
  {
   "cell_type": "code",
   "execution_count": 10,
   "metadata": {},
   "outputs": [],
   "source": [
    "vax_df.to_feather('vax.feather')"
   ]
  },
  {
   "cell_type": "markdown",
   "metadata": {},
   "source": [
    "Comparing builtin bool, pandas nullable boolean, and pandas category dtypes. Run on OG dataframe."
   ]
  },
  {
   "cell_type": "code",
   "execution_count": 11,
   "metadata": {},
   "outputs": [],
   "source": [
    "# vax_df.COADMINISTERED.map({'No':False, 'Yes':True}).astype('boolean').memory_usage()//2**20 # NaNs kept as <NA>"
   ]
  },
  {
   "cell_type": "code",
   "execution_count": 12,
   "metadata": {},
   "outputs": [],
   "source": [
    "# vax_df.COADMINISTERED.map({'No':False, 'Yes':True}).astype('boolean').value_counts()"
   ]
  },
  {
   "cell_type": "code",
   "execution_count": 13,
   "metadata": {},
   "outputs": [],
   "source": [
    "# vax_df.COADMINISTERED.astype('category').memory_usage()//2**20 # NaNs kept"
   ]
  },
  {
   "cell_type": "code",
   "execution_count": 14,
   "metadata": {},
   "outputs": [],
   "source": [
    "# vax_df.COADMINISTERED.astype('category').value_counts(dropna=False)"
   ]
  },
  {
   "cell_type": "code",
   "execution_count": 15,
   "metadata": {},
   "outputs": [],
   "source": [
    "# vax_df.COADMINISTERED.astype('category').unique()"
   ]
  },
  {
   "cell_type": "code",
   "execution_count": 16,
   "metadata": {},
   "outputs": [],
   "source": [
    "# vax_df.COADMINISTERED.map({'No':False, 'Yes':True}).astype(bool).memory_usage()//2**20  # NaNs -> True"
   ]
  }
 ],
 "metadata": {
  "kernelspec": {
   "display_name": "Python 3 (ipykernel)",
   "language": "python",
   "name": "python3"
  },
  "language_info": {
   "codemirror_mode": {
    "name": "ipython",
    "version": 3
   },
   "file_extension": ".py",
   "mimetype": "text/x-python",
   "name": "python",
   "nbconvert_exporter": "python",
   "pygments_lexer": "ipython3",
   "version": "3.10.4"
  }
 },
 "nbformat": 4,
 "nbformat_minor": 4
}
