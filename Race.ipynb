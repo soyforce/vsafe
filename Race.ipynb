{
 "cells": [
  {
   "cell_type": "code",
   "execution_count": 1,
   "id": "47155b18",
   "metadata": {},
   "outputs": [],
   "source": [
    "import pandas as pd\n",
    "from utils import expand_multichoice"
   ]
  },
  {
   "cell_type": "code",
   "execution_count": 2,
   "id": "8b3917d1",
   "metadata": {},
   "outputs": [
    {
     "data": {
      "text/html": [
       "<div>\n",
       "<style scoped>\n",
       "    .dataframe tbody tr th:only-of-type {\n",
       "        vertical-align: middle;\n",
       "    }\n",
       "\n",
       "    .dataframe tbody tr th {\n",
       "        vertical-align: top;\n",
       "    }\n",
       "\n",
       "    .dataframe thead th {\n",
       "        text-align: right;\n",
       "    }\n",
       "</style>\n",
       "<table border=\"1\" class=\"dataframe\">\n",
       "  <thead>\n",
       "    <tr style=\"text-align: right;\">\n",
       "      <th></th>\n",
       "      <th>REGISTRANT_CODE</th>\n",
       "      <th>RACE</th>\n",
       "      <th>ETHNICITY</th>\n",
       "    </tr>\n",
       "  </thead>\n",
       "  <tbody>\n",
       "    <tr>\n",
       "      <th>0</th>\n",
       "      <td>KWH-75285-18131</td>\n",
       "      <td>Asian</td>\n",
       "      <td>Not Hispanic or Latino</td>\n",
       "    </tr>\n",
       "    <tr>\n",
       "      <th>1</th>\n",
       "      <td>95G-78803-72308</td>\n",
       "      <td>White</td>\n",
       "      <td>Hispanic or Latino</td>\n",
       "    </tr>\n",
       "    <tr>\n",
       "      <th>2</th>\n",
       "      <td>6SF-22379-30650</td>\n",
       "      <td>White</td>\n",
       "      <td>Not Hispanic or Latino</td>\n",
       "    </tr>\n",
       "    <tr>\n",
       "      <th>3</th>\n",
       "      <td>F4C-94580-33962</td>\n",
       "      <td>White</td>\n",
       "      <td>Not Hispanic or Latino</td>\n",
       "    </tr>\n",
       "    <tr>\n",
       "      <th>4</th>\n",
       "      <td>WPH-15008-57507</td>\n",
       "      <td>White</td>\n",
       "      <td>Not Hispanic or Latino</td>\n",
       "    </tr>\n",
       "  </tbody>\n",
       "</table>\n",
       "</div>"
      ],
      "text/plain": [
       "   REGISTRANT_CODE   RACE               ETHNICITY\n",
       "0  KWH-75285-18131  Asian  Not Hispanic or Latino\n",
       "1  95G-78803-72308  White      Hispanic or Latino\n",
       "2  6SF-22379-30650  White  Not Hispanic or Latino\n",
       "3  F4C-94580-33962  White  Not Hispanic or Latino\n",
       "4  WPH-15008-57507  White  Not Hispanic or Latino"
      ]
     },
     "execution_count": 2,
     "metadata": {},
     "output_type": "execute_result"
    }
   ],
   "source": [
    "race_df = pd.read_csv('consolidated_race_ethnicity[1].csv')\n",
    "race_df.head()"
   ]
  },
  {
   "cell_type": "code",
   "execution_count": 3,
   "id": "50ad3311",
   "metadata": {},
   "outputs": [
    {
     "data": {
      "text/plain": [
       "(8.933184, 'M')"
      ]
     },
     "execution_count": 3,
     "metadata": {},
     "output_type": "execute_result"
    }
   ],
   "source": [
    "len(race_df)/1e6, 'M'"
   ]
  },
  {
   "cell_type": "code",
   "execution_count": 4,
   "id": "343f2b73",
   "metadata": {},
   "outputs": [
    {
     "data": {
      "text/plain": [
       "(204, 'MB')"
      ]
     },
     "execution_count": 4,
     "metadata": {},
     "output_type": "execute_result"
    }
   ],
   "source": [
    "race_df.memory_usage().sum()//2**20, 'MB'"
   ]
  },
  {
   "cell_type": "code",
   "execution_count": 5,
   "id": "34f3e284",
   "metadata": {},
   "outputs": [
    {
     "data": {
      "text/html": [
       "<div>\n",
       "<style scoped>\n",
       "    .dataframe tbody tr th:only-of-type {\n",
       "        vertical-align: middle;\n",
       "    }\n",
       "\n",
       "    .dataframe tbody tr th {\n",
       "        vertical-align: top;\n",
       "    }\n",
       "\n",
       "    .dataframe thead th {\n",
       "        text-align: right;\n",
       "    }\n",
       "</style>\n",
       "<table border=\"1\" class=\"dataframe\">\n",
       "  <thead>\n",
       "    <tr style=\"text-align: right;\">\n",
       "      <th></th>\n",
       "      <th>REGISTRANT_CODE</th>\n",
       "      <th>ETHNICITY</th>\n",
       "      <th>American Indian or Alaska Native</th>\n",
       "      <th>Asian</th>\n",
       "      <th>Black or African American</th>\n",
       "      <th>Native Hawaiian or other Pacific Islander</th>\n",
       "      <th>Other</th>\n",
       "      <th>White</th>\n",
       "    </tr>\n",
       "  </thead>\n",
       "  <tbody>\n",
       "    <tr>\n",
       "      <th>0</th>\n",
       "      <td>KWH-75285-18131</td>\n",
       "      <td>Not Hispanic or Latino</td>\n",
       "      <td>False</td>\n",
       "      <td>True</td>\n",
       "      <td>False</td>\n",
       "      <td>False</td>\n",
       "      <td>False</td>\n",
       "      <td>False</td>\n",
       "    </tr>\n",
       "    <tr>\n",
       "      <th>1</th>\n",
       "      <td>95G-78803-72308</td>\n",
       "      <td>Hispanic or Latino</td>\n",
       "      <td>False</td>\n",
       "      <td>False</td>\n",
       "      <td>False</td>\n",
       "      <td>False</td>\n",
       "      <td>False</td>\n",
       "      <td>True</td>\n",
       "    </tr>\n",
       "    <tr>\n",
       "      <th>2</th>\n",
       "      <td>6SF-22379-30650</td>\n",
       "      <td>Not Hispanic or Latino</td>\n",
       "      <td>False</td>\n",
       "      <td>False</td>\n",
       "      <td>False</td>\n",
       "      <td>False</td>\n",
       "      <td>False</td>\n",
       "      <td>True</td>\n",
       "    </tr>\n",
       "    <tr>\n",
       "      <th>3</th>\n",
       "      <td>F4C-94580-33962</td>\n",
       "      <td>Not Hispanic or Latino</td>\n",
       "      <td>False</td>\n",
       "      <td>False</td>\n",
       "      <td>False</td>\n",
       "      <td>False</td>\n",
       "      <td>False</td>\n",
       "      <td>True</td>\n",
       "    </tr>\n",
       "    <tr>\n",
       "      <th>4</th>\n",
       "      <td>WPH-15008-57507</td>\n",
       "      <td>Not Hispanic or Latino</td>\n",
       "      <td>False</td>\n",
       "      <td>False</td>\n",
       "      <td>False</td>\n",
       "      <td>False</td>\n",
       "      <td>False</td>\n",
       "      <td>True</td>\n",
       "    </tr>\n",
       "  </tbody>\n",
       "</table>\n",
       "</div>"
      ],
      "text/plain": [
       "   REGISTRANT_CODE               ETHNICITY  American Indian or Alaska Native  \\\n",
       "0  KWH-75285-18131  Not Hispanic or Latino                             False   \n",
       "1  95G-78803-72308      Hispanic or Latino                             False   \n",
       "2  6SF-22379-30650  Not Hispanic or Latino                             False   \n",
       "3  F4C-94580-33962  Not Hispanic or Latino                             False   \n",
       "4  WPH-15008-57507  Not Hispanic or Latino                             False   \n",
       "\n",
       "   Asian  Black or African American  \\\n",
       "0   True                      False   \n",
       "1  False                      False   \n",
       "2  False                      False   \n",
       "3  False                      False   \n",
       "4  False                      False   \n",
       "\n",
       "   Native Hawaiian or other Pacific Islander  Other  White  \n",
       "0                                      False  False  False  \n",
       "1                                      False  False   True  \n",
       "2                                      False  False   True  \n",
       "3                                      False  False   True  \n",
       "4                                      False  False   True  "
      ]
     },
     "execution_count": 5,
     "metadata": {},
     "output_type": "execute_result"
    }
   ],
   "source": [
    "race_df['ETHNICITY'] = race_df.ETHNICITY.astype('category')\n",
    "race_df = expand_multichoice(race_df, 'RACE')\n",
    "race_df.head()"
   ]
  },
  {
   "cell_type": "code",
   "execution_count": 6,
   "id": "37171ab5",
   "metadata": {},
   "outputs": [
    {
     "data": {
      "text/plain": [
       "(127, 'MB')"
      ]
     },
     "execution_count": 6,
     "metadata": {},
     "output_type": "execute_result"
    }
   ],
   "source": [
    "race_df.memory_usage().sum()//2**20, 'MB'"
   ]
  },
  {
   "cell_type": "code",
   "execution_count": 7,
   "id": "6f8dc89b",
   "metadata": {},
   "outputs": [],
   "source": [
    "race_df.to_feather('race.feather')"
   ]
  }
 ],
 "metadata": {
  "kernelspec": {
   "display_name": "Python 3 (ipykernel)",
   "language": "python",
   "name": "python3"
  },
  "language_info": {
   "codemirror_mode": {
    "name": "ipython",
    "version": 3
   },
   "file_extension": ".py",
   "mimetype": "text/x-python",
   "name": "python",
   "nbconvert_exporter": "python",
   "pygments_lexer": "ipython3",
   "version": "3.10.4"
  }
 },
 "nbformat": 4,
 "nbformat_minor": 5
}
